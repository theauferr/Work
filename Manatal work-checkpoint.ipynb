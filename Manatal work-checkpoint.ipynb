{
 "cells": [
  {
   "cell_type": "code",
   "execution_count": 64,
   "metadata": {
    "collapsed": false
   },
   "outputs": [],
   "source": [
    "import math\n",
    "import random as rd\n",
    "import urllib.request"
   ]
  },
  {
   "cell_type": "markdown",
   "metadata": {},
   "source": [
    "Question 1"
   ]
  },
  {
   "cell_type": "code",
   "execution_count": 190,
   "metadata": {
    "collapsed": false
   },
   "outputs": [
    {
     "name": "stdout",
     "output_type": "stream",
     "text": [
      "5\n",
      "78.53981633974483\n",
      "31.41592653589793\n"
     ]
    }
   ],
   "source": [
    "class circle():\n",
    "    def __init__(self, radius):\n",
    "        self.radius = radius\n",
    "\n",
    "    def area(self):\n",
    "        return math.pi * self.radius**2\n",
    "\n",
    "    def perimeter(self):\n",
    "        return 2 * math.pi * self.radius\n",
    "    \n",
    "C = circle(5)\n",
    "print(C.radius)\n",
    "print(C.area())\n",
    "print(C.perimeter())"
   ]
  },
  {
   "cell_type": "markdown",
   "metadata": {},
   "source": [
    "Question 2"
   ]
  },
  {
   "cell_type": "code",
   "execution_count": 189,
   "metadata": {
    "collapsed": false
   },
   "outputs": [
    {
     "name": "stdout",
     "output_type": "stream",
     "text": [
      "[7, 13, 23, 27, 28, 29, 33, 41, 47, 48]\n"
     ]
    }
   ],
   "source": [
    "def game():\n",
    "    balls_nb = 50\n",
    "    draws_nb = 10\n",
    "    result = []\n",
    "    while len(result) < draws_nb:\n",
    "        draw = rd.randint(1,balls_nb + 1)\n",
    "        if draw not in result:\n",
    "            result.append(draw)\n",
    "\n",
    "    return sorted(result)\n",
    "\n",
    "print(game())"
   ]
  },
  {
   "cell_type": "markdown",
   "metadata": {},
   "source": [
    "Question 3"
   ]
  },
  {
   "cell_type": "code",
   "execution_count": 187,
   "metadata": {
    "collapsed": false
   },
   "outputs": [
    {
     "name": "stdout",
     "output_type": "stream",
     "text": [
      "MMCMLXXXI\n"
     ]
    }
   ],
   "source": [
    "roman_symbols = [ \"M\", \"CM\", \"D\", \"CD\", \"C\", \"XC\",\n",
    "            \"L\", \"VL\", \"XL\", \"X\", \"IX\", \"V\", \"IV\", \"I\" ]\n",
    "arabic_numbers = [ 1000, 900, 500, 400, 100, 90,\n",
    "        50, 45, 40, 10, 9, 5, 4, 1 ]\n",
    "\n",
    "def converter(number):\n",
    "    remainder = number\n",
    "    result = ''\n",
    "    \n",
    "    if number < 1 or number > 3999 or not isinstance(number, int): \n",
    "        return \"Error !\"\n",
    "    \n",
    "    for i,elt in enumerate(arabic_numbers):\n",
    "        while remainder >= arabic_numbers[i]:\n",
    "            result += roman_symbols[i]\n",
    "            remainder -= arabic_numbers[i]\n",
    "            \n",
    "    return result\n",
    "\n",
    "print(converter(2981))"
   ]
  },
  {
   "cell_type": "markdown",
   "metadata": {},
   "source": [
    "Question 4"
   ]
  },
  {
   "cell_type": "code",
   "execution_count": 184,
   "metadata": {
    "collapsed": false
   },
   "outputs": [
    {
     "data": {
      "text/plain": [
       "'KMbappe has 3743563 followers on Twitter !'"
      ]
     },
     "execution_count": 184,
     "metadata": {},
     "output_type": "execute_result"
    }
   ],
   "source": [
    "def follower_nb(user_name):\n",
    "    page = urllib.request.urlopen('https://twitter.com/' + user_name)\n",
    "    strpage = str(page.read())\n",
    "    \n",
    "    key_word = 'followers_count&quot'\n",
    "    followers_nb = ''\n",
    "    \n",
    "    for i,elt in enumerate(strpage):\n",
    "        if strpage[i:i+len(key_word)] == key_word:\n",
    "            idx = i + len(key_word)\n",
    "    \n",
    "    for elt in strpage[idx:]:\n",
    "        if not str.isdigit(elt):\n",
    "            if followers_nb != '':\n",
    "                break\n",
    "        else:\n",
    "            followers_nb += elt\n",
    "        \n",
    "    return user_name + ' has ' + followers_nb + ' followers on Twitter !'\n",
    "    \n",
    "follower_nb('KMbappe')"
   ]
  },
  {
   "cell_type": "code",
   "execution_count": null,
   "metadata": {
    "collapsed": true
   },
   "outputs": [],
   "source": []
  }
 ],
 "metadata": {
  "anaconda-cloud": {},
  "kernelspec": {
   "display_name": "Python [default]",
   "language": "python",
   "name": "python3"
  },
  "language_info": {
   "codemirror_mode": {
    "name": "ipython",
    "version": 3
   },
   "file_extension": ".py",
   "mimetype": "text/x-python",
   "name": "python",
   "nbconvert_exporter": "python",
   "pygments_lexer": "ipython3",
   "version": "3.5.2"
  }
 },
 "nbformat": 4,
 "nbformat_minor": 1
}
